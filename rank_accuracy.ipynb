{
 "metadata": {
  "language_info": {
   "codemirror_mode": {
    "name": "ipython",
    "version": 3
   },
   "file_extension": ".py",
   "mimetype": "text/x-python",
   "name": "python",
   "nbconvert_exporter": "python",
   "pygments_lexer": "ipython3",
   "version": 3
  },
  "orig_nbformat": 2
 },
 "nbformat": 4,
 "nbformat_minor": 2,
 "cells": [
  {
   "cell_type": "code",
   "execution_count": null,
   "metadata": {},
   "outputs": [],
   "source": [
    "from pyimagesearch.utils.ranked import rank5_accuracy\n",
    "import pickle\n",
    "import h5py"
   ]
  },
  {
   "cell_type": "code",
   "execution_count": null,
   "metadata": {},
   "outputs": [],
   "source": [
    "args = {\n",
    "    'db' : '',\n",
    "    'model' : '',\n",
    "}"
   ]
  },
  {
   "cell_type": "code",
   "execution_count": null,
   "metadata": {},
   "outputs": [],
   "source": [
    "# load pre-trained model\n",
    "print(\"[loading] pre-trained model...\")\n",
    "model = pickle.loads(open(args['model'], 'rb').read())\n",
    "\n",
    "# open the hdf5 database for reading then determine the index of\n",
    "# the training and testing split, provided that this data was\n",
    "# alrdy shuffled \n",
    "db =h5py.file(args['db'], 'r')\n",
    "i = int(db['labels'].shape[0] * 0.75)"
   ]
  },
  {
   "cell_type": "code",
   "execution_count": null,
   "metadata": {},
   "outputs": [],
   "source": [
    "# make predictions on the testing set then compute the rank1 and rank 5 acc\n",
    "print(\"[INFO] prediction..\")\n",
    "preds = model.predict_proba(db['features'][i:])\n",
    "(rank1, rank5) = rank5_accuracy(preds, db['labels'][i:])\n",
    "\n",
    "# display the rank1 and rank 5 acc\n",
    "print(\"[INFO] rank1 : {:.2f}%\".format(rank1 * 100))\n",
    "print(\"[INFO] rank5 : {:.2f}%\".format(rank5 * 100))\n",
    "\n",
    "db.close()"
   ]
  }
 ]
}
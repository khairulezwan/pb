{
 "metadata": {
  "language_info": {
   "codemirror_mode": {
    "name": "ipython",
    "version": 3
   },
   "file_extension": ".py",
   "mimetype": "text/x-python",
   "name": "python",
   "nbconvert_exporter": "python",
   "pygments_lexer": "ipython3",
   "version": 3
  },
  "orig_nbformat": 2
 },
 "nbformat": 4,
 "nbformat_minor": 2,
 "cells": [
  {
   "cell_type": "code",
   "execution_count": null,
   "metadata": {},
   "outputs": [],
   "source": [
    "import matplotlib\n",
    "matplotlib.use('Agg')\n",
    "\n",
    "# import package\n",
    "from sklearn.preprocessing import LabelBinarizer\n",
    "from sklearn.metrics import classification_report\n",
    "from pyimagesearch.nn.conv import MiniVGGNet\n",
    "from tensorflow.keras.preprocessing.image import ImageDataGenerator\n",
    "from tensorflow.keras.optimizers import SGD\n",
    "from tensorflow.keras.datasets import cifar10\n",
    "import matplotlib.pyplot as plt\n",
    "import numpy as np\n",
    "import os"
   ]
  },
  {
   "cell_type": "code",
   "execution_count": null,
   "metadata": {},
   "outputs": [],
   "source": [
    "args = {\n",
    "    'output': '',\n",
    "    'models': '',\n",
    "    'num_models' : 5,\n",
    "\n",
    "}"
   ]
  },
  {
   "cell_type": "code",
   "execution_count": null,
   "metadata": {},
   "outputs": [],
   "source": [
    "# load training data\n",
    "((trainX, trainY), (testX, testY)) = cifar10.load_data()\n",
    "trainX = trainX.astype('float') / 255.0\n",
    "testX = testX.astype('float')\n",
    "\n",
    "# convert label from int to vec\n",
    "lb = LabelBinarizer()\n",
    "trainY = lb.fit_transform(trainY)\n",
    "testY = lb.fit(testY)\n",
    "\n",
    "# init the label names for cifar-10\n",
    "labelNames = [\"airplane\", \"automobile\", \"bird\", \"cat\", \"deer\",\n",
    "\"dog\", \"frog\", \"horse\", \"ship\", \"truck\"]"
   ]
  },
  {
   "cell_type": "code",
   "execution_count": null,
   "metadata": {},
   "outputs": [],
   "source": [
    "# apply data augmentation\n",
    "aug = ImageDataGenerator(rotation_range=10, width_shift_range=0.1, height_shift_range=0.1, horizontal_flip=True, fill_mode='nearest')"
   ]
  },
  {
   "cell_type": "code",
   "execution_count": null,
   "metadata": {},
   "outputs": [],
   "source": [
    "# loop over the number of models to train\n",
    "for i in np.arange(0, args['num_models']):\n",
    "    # init optimizers and model\n",
    "    print(\"[INFO] training model {}/{}\".format(i + 1, args['num_models']))\n",
    "    opt = SGD(lr=0.01, decay=0.01 / 40, momentum=0.9, nestorov=True)\n",
    "    model = MiniVGGNet.build(width=32, height=32, depth=3, classes=10)\n",
    "    model.compile(loss='categorical_crossentropy', optimizer=opt, metrics=['accuracy'])\n",
    "\n",
    "    # train the network\n",
    "    H = model.fit_generator(aug.flow(trainX, trainY, batch_size=64),\n",
    "    validation_data=(testX,testY), epochs=40,\n",
    "    steps_per_epoch=len(trainY) // 64, verbose=1)\n",
    "\n",
    "    # save model to disk\n",
    "    p = [args['models'], \"model_{}.model\".format(i)]\n",
    "    model.save(os.path.sep.join(p))\n",
    "\n",
    "    # classification reprot\n",
    "    predictions = model.predict(testX, batch_size=64)\n",
    "    report =classification_report(testY.argmax(axis=1),\n",
    "    predictions.argmax(axis=1), target_names=labelNames)\n",
    "\n",
    "    # save the c-report\n",
    "    p = [args['output'], \"model_{}.txt\".format(i)]\n",
    "    f = open(os.path.sep.join(p), 'w')\n",
    "    f.write(report)\n",
    "    f.close()\n",
    "\n",
    "    \n",
    "    # plot the training loss and accuracy\n",
    "    p = [args[\"output\"], \"model_{}.png\".format(i)]\n",
    "    plt.style.use(\"ggplot\")\n",
    "    plt.figure()\n",
    "    plt.plot(np.arange(0, 40), H.history[\"loss\"],\n",
    "    label=\"train_loss\")\n",
    "    plt.plot(np.arange(0, 40), H.history[\"val_loss\"],\n",
    "    label=\"val_loss\")\n",
    "    plt.plot(np.arange(0, 40), H.history[\"accuracy\"],\n",
    "    label=\"train_acc\")\n",
    "    plt.plot(np.arange(0, 40), H.history[\"val_accuracy\"],\n",
    "    label=\"val_acc\")\n",
    "    plt.title(\"Training Loss and Accuracy for model {}\".format(i))\n",
    "    plt.xlabel(\"Epoch #\")\n",
    "    plt.ylabel(\"Loss/Accuracy\")\n",
    "    plt.legend()\n",
    "    plt.savefig(os.path.sep.join(p))\n",
    "    plt.close()"
   ]
  }
 ]
}
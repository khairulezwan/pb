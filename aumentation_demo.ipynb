{
 "metadata": {
  "language_info": {
   "codemirror_mode": {
    "name": "ipython",
    "version": 3
   },
   "file_extension": ".py",
   "mimetype": "text/x-python",
   "name": "python",
   "nbconvert_exporter": "python",
   "pygments_lexer": "ipython3",
   "version": "3.7.7-final"
  },
  "orig_nbformat": 2,
  "kernelspec": {
   "name": "python37764bitbasecondabe15f5c191f44ef5875f848b4f50fd12",
   "display_name": "Python 3.7.7 64-bit ('base': conda)"
  }
 },
 "nbformat": 4,
 "nbformat_minor": 2,
 "cells": [
  {
   "cell_type": "code",
   "execution_count": 1,
   "metadata": {},
   "outputs": [],
   "source": [
    "from tensorflow.keras.preprocessing.image import ImageDataGenerator\n",
    "from tensorflow.keras.preprocessing.image import img_to_array\n",
    "from tensorflow.keras.preprocessing.image import load_img\n",
    "import numpy as np \n",
    "\n",
    "args = {\n",
    "    'image'  : 'beagle.jpg',\n",
    "    'output' : 'output',\n",
    "    'prefix' : '',\n",
    "}"
   ]
  },
  {
   "cell_type": "code",
   "execution_count": 2,
   "metadata": {
    "tags": []
   },
   "outputs": [
    {
     "output_type": "stream",
     "name": "stdout",
     "text": "[INFO] loading images....\n"
    }
   ],
   "source": [
    "# load the input image, convert it to numpy array and reshape it to extra dimension\n",
    "print(\"[INFO] loading images....\")\n",
    "image = load_img(args['image'])\n",
    "image = img_to_array(image)\n",
    "image = np.expand_dims(image, axis=0)\n"
   ]
  },
  {
   "cell_type": "code",
   "execution_count": 3,
   "metadata": {},
   "outputs": [],
   "source": [
    "# construct the image generator for data augmentation then\n",
    "# initialize the total number of images generated thus far\n",
    "aug = ImageDataGenerator(rotation_range=30, width_shift_range=0.1, height_shift_range=0.1, shear_range=0.2, zoom_range=0.2, horizontal_flip=True, fill_mode='nearest')\n",
    "total = 0"
   ]
  },
  {
   "cell_type": "code",
   "execution_count": 4,
   "metadata": {
    "tags": []
   },
   "outputs": [
    {
     "output_type": "stream",
     "name": "stdout",
     "text": "[INFO] generating images..\n"
    }
   ],
   "source": [
    "# constrcut the python generator\n",
    "print(\"[INFO] generating images..\")\n",
    "imageGen = aug.flow(image, batch_size=1, save_to_dir=args['output'], save_prefix=args['prefix'], save_format='jpg')\n",
    "\n",
    "## loop over examples from our image data augmentation generator\n",
    "for image in imageGen:\n",
    "    # increment our counter\n",
    "    total += 1\n",
    "\n",
    "    # if we have reached 10 exp, break from the loop\n",
    "    if total == 10:\n",
    "        break"
   ]
  }
 ]
}
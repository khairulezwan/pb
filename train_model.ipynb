{
 "cells": [
  {
   "cell_type": "code",
   "execution_count": null,
   "metadata": {},
   "outputs": [],
   "source": [
    "from sklearn.linear_model import LogisticRegression\n",
    "from sklearn.model_selection import GridSearchCV\n",
    "from sklearn.metrics import classification_report\n",
    "import pickle\n",
    "import h5py"
   ]
  },
  {
   "cell_type": "code",
   "execution_count": null,
   "metadata": {},
   "outputs": [],
   "source": [
    "args = {\n",
    "    'db' : 'output/caltech-101/features.hdf5',\n",
    "    'models' : 'caltech-101.cpickle',\n",
    "    'jobs' : 1,\n",
    "}"
   ]
  },
  {
   "cell_type": "code",
   "execution_count": null,
   "metadata": {},
   "outputs": [],
   "source": [
    "# open the hdf5 database for reading then determine the index of\n",
    "# the training and testing split, provided this data\n",
    "# was alrdy shuffled\n",
    "\n",
    "db = h5py.File(args[\"db\"], \"r\")\n",
    "i = int(db[\"labels\"].shape[0] * 0.75)"
   ]
  },
  {
   "cell_type": "code",
   "execution_count": null,
   "metadata": {},
   "outputs": [],
   "source": [
    "# define the set of parameters that we want to tune then start a\n",
    "# grid search where we evaluate our model for each value of C\n",
    "print(\"[INFO] tuning hyperparameters...\")\n",
    "params = {\"C\": [0.1, 1.0, 10.0, 100.0, 1000.0, 10000.0]}\n",
    "model = GridSearchCV(LogisticRegression(solver=\"lbfgs\", max_iter=800,multi_class=\"auto\"), params, cv=3, n_jobs=args[\"jobs\"])\n",
    "model.fit(db[\"features\"][:i], db[\"labels\"][:i])\n",
    "print(\"[INFO] best hyperparameters: {}\".format(model.best_params_))\n",
    "\n",
    "\n",
    "# evaluate the model\n",
    "print(\"[INFO] evaluating...\")\n",
    "preds = model.predict(db[\"features\"][i:])\n",
    "print(classification_report(db[\"labels\"][i:], preds,\n",
    "target_names=db[\"label_names\"]))"
   ]
  },
  {
   "cell_type": "code",
   "execution_count": null,
   "metadata": {},
   "outputs": [],
   "source": [
    "# serialize the model to the disk\n",
    "print(\"[INFO] saving model ...\")\n",
    "f =open(args['models'], 'wb')\n",
    "f.write(pickle.dumps(model.best_estimator_))\n",
    "f.close()\n",
    "\n",
    "# close db\n",
    "db.close()"
   ]
  }
 ],
 "metadata": {
  "kernelspec": {
   "display_name": "Python 3",
   "language": "python",
   "name": "python3"
  },
  "language_info": {
   "codemirror_mode": {
    "name": "ipython",
    "version": 3
   },
   "file_extension": ".py",
   "mimetype": "text/x-python",
   "name": "python",
   "nbconvert_exporter": "python",
   "pygments_lexer": "ipython3",
   "version": "3.6.9"
  }
 },
 "nbformat": 4,
 "nbformat_minor": 4
}

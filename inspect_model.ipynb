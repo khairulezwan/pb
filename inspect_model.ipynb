{
 "metadata": {
  "language_info": {
   "codemirror_mode": {
    "name": "ipython",
    "version": 3
   },
   "file_extension": ".py",
   "mimetype": "text/x-python",
   "name": "python",
   "nbconvert_exporter": "python",
   "pygments_lexer": "ipython3",
   "version": "3.7.7-final"
  },
  "orig_nbformat": 2,
  "kernelspec": {
   "name": "python37764bitbasecondabe15f5c191f44ef5875f848b4f50fd12",
   "display_name": "Python 3.7.7 64-bit ('base': conda)"
  }
 },
 "nbformat": 4,
 "nbformat_minor": 2,
 "cells": [
  {
   "cell_type": "code",
   "execution_count": 2,
   "metadata": {},
   "outputs": [],
   "source": [
    "from tensorflow.keras.applications import VGG16\n",
    "\n",
    "args = {\n",
    "    'include_top' : 1\n",
    "}"
   ]
  },
  {
   "cell_type": "code",
   "execution_count": null,
   "metadata": {},
   "outputs": [],
   "source": [
    "# load the vgg16 network\n",
    "print(\"[info] load vgg16 network\")\n",
    "model = VGG16(weights='imagenet', include_top=args['include_top'] > 0)\n",
    "print(\"[info] showing layers..\")\n",
    "\n",
    "# loop over the layers in the networks and diplay them\n",
    "for (i, layer) in enumerate(model.layers):\n",
    "    print(\"[INFO] {}\\t{}\".format(i, layer.__class__.name__))"
   ]
  }
 ]
}